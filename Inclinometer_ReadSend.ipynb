{
 "cells": [
  {
   "cell_type": "code",
   "execution_count": 1,
   "metadata": {},
   "outputs": [],
   "source": [
    "import serial\n",
    "import numpy as np\n",
    "from ParseSerial import ReadSentence_Inclin\n",
    "import requests\n",
    "import time\n",
    "import sys\n",
    "import h5py\n",
    "import os\n",
    "import glob"
   ]
  },
  {
   "cell_type": "code",
   "execution_count": 2,
   "metadata": {},
   "outputs": [],
   "source": [
    "#Starting with Influx 2.0, authorization tokens are necessary to access databases\n",
    "#The token can be accessed under the \"Data\" tab in the Influx UI.\n",
    "\n",
    "#Stringing together query access\n",
    "INFLUX_TOKEN='AjsrNgY_k97FMvgfCsgc2tPTx-lOVM-aYaCMjymNVIWpoSCkYh7H4AqIV9pLQHHk07zJa5pxTn4lo-3Ashwu5Q=='\n",
    "ORG=\"tim@upenn\"\n",
    "INFLUX_CLOUD_URL='localhost'\n",
    "BUCKET_NAME='sensors'\n",
    "\n",
    "QUERY_URI='http://{}:8086/api/v2/write?org={}&bucket={}&precision=ns'.format(INFLUX_CLOUD_URL,ORG,BUCKET_NAME)\n",
    "\n",
    "headers = {}\n",
    "headers['Authorization'] = 'Token {}'.format(INFLUX_TOKEN)\n",
    "\n",
    "#Line protocol\n",
    "location_tag = 'lab'\n",
    "measurement_name = 'inclin_data'"
   ]
  },
  {
   "cell_type": "code",
   "execution_count": 3,
   "metadata": {},
   "outputs": [],
   "source": [
    "# connect to inclinometer\n",
    "port ='/dev/ttyUSB3'\n",
    "baudrate=9600\n",
    "inclin = serial.Serial(port=port, baudrate=baudrate)"
   ]
  },
  {
   "cell_type": "code",
   "execution_count": 4,
   "metadata": {},
   "outputs": [],
   "source": [
    "header_inclin = \"680d0084\"\n",
    "splitline_inclin = [6,12,18]\n",
    "sentence_length_inclin = 28"
   ]
  },
  {
   "cell_type": "code",
   "execution_count": 5,
   "metadata": {},
   "outputs": [],
   "source": [
    "#Number of data samples in each save file. (Inclinometer currently set to 5hz)\n",
    "#N = 1200 * 15\n",
    "#N = 35100\n",
    "N = 9000\n",
    "dataCount = 0"
   ]
  },
  {
   "cell_type": "code",
   "execution_count": 6,
   "metadata": {},
   "outputs": [],
   "source": [
    "#Creating HDF5 datasets... maybe convert to for loop\n",
    "timestr = time.strftime(\"%Y%m%d-%H%M%S\")\n",
    "datestamp = time.strftime(\"%Y-%m-%d-Inclin\")\n",
    "\n",
    "#First check if there is a folder with current date. If there isn't, create one.\n",
    "if os.path.isdir(\"/home/user/tim-daq/data/\"+datestamp) == 0:\n",
    "    os.mkdir(\"/home/user/tim-daq/data/\"+datestamp)\n",
    "\n",
    "#Then check if the folder is empty. If it's empty, the first file number will start at 1.\n",
    "#If the folder is not empty, check the file number of the last edited file, and add 1 to it for the new file. \n",
    "if len(os.listdir(\"/home/user/tim-daq/data/\"+datestamp)) == 0:\n",
    "    file_number = 1\n",
    "    file_number_string = str(1)\n",
    "else:\n",
    "    file_list = glob.glob(\"/home/user/tim-daq/data/\"+datestamp+\"/*.hdf5\")\n",
    "    latest_file = max(file_list, key=os.path.getctime)\n",
    "    file_number = int(latest_file[-10:-5]) + 1\n",
    "    file_number_string = str(file_number)\n",
    "\n",
    "    \n",
    "inclinfile = h5py.File(\"/home/user/tim-daq/data/\"+datestamp+\"/Inclin_\"+timestr+\"_\"+file_number_string.zfill(5)+\".hdf5\", \"w\", libver = 'latest')\n",
    "x_dset = inclinfile.create_dataset(\"x\", (N,), dtype='float', chunks = True, maxshape = (None,))\n",
    "y_dset = inclinfile.create_dataset(\"y\", (N,), dtype='float', chunks = True, maxshape = (None,))\n",
    "temp_dset = inclinfile.create_dataset(\"temp\", (N,), dtype='float', chunks = True, maxshape = (None,))\n",
    "time_dset = inclinfile.create_dataset(\"time\", (N,), dtype='int64', chunks = True, maxshape = (None,))\n",
    "index_dset = inclinfile.create_dataset(\"index\", (1,), dtype='int64', chunks = True, maxshape = (None,))\n",
    "filenames_dset = inclinfile.create_dataset(\"filenames\", (2,), dtype='int64', chunks = True, maxshape = (None,))\n",
    "\n",
    "filenames_dset[0] = file_number\n",
    "filenames_dset[1] = file_number + 1\n",
    "\n",
    "inclinfile.swmr_mode = True"
   ]
  },
  {
   "cell_type": "code",
   "execution_count": 7,
   "metadata": {},
   "outputs": [
    {
     "ename": "KeyboardInterrupt",
     "evalue": "",
     "output_type": "error",
     "traceback": [
      "\u001b[0;31m---------------------------------------------------------------------------\u001b[0m",
      "\u001b[0;31mKeyboardInterrupt\u001b[0m                         Traceback (most recent call last)",
      "\u001b[0;32m<ipython-input-7-eeffd029d7e7>\u001b[0m in \u001b[0;36m<module>\u001b[0;34m\u001b[0m\n\u001b[1;32m      1\u001b[0m \u001b[0;32mwhile\u001b[0m \u001b[0;32mTrue\u001b[0m\u001b[0;34m:\u001b[0m\u001b[0;34m\u001b[0m\u001b[0;34m\u001b[0m\u001b[0m\n\u001b[1;32m      2\u001b[0m \u001b[0;34m\u001b[0m\u001b[0m\n\u001b[0;32m----> 3\u001b[0;31m     \u001b[0mx_buff\u001b[0m\u001b[0;34m,\u001b[0m \u001b[0my_buff\u001b[0m\u001b[0;34m,\u001b[0m \u001b[0mtemp_buff\u001b[0m \u001b[0;34m=\u001b[0m \u001b[0mReadSentence_Inclin\u001b[0m\u001b[0;34m(\u001b[0m\u001b[0minclin\u001b[0m\u001b[0;34m,\u001b[0m \u001b[0mheader_inclin\u001b[0m\u001b[0;34m,\u001b[0m \u001b[0msplitline_inclin\u001b[0m\u001b[0;34m,\u001b[0m \u001b[0msentence_length_inclin\u001b[0m\u001b[0;34m)\u001b[0m\u001b[0;34m\u001b[0m\u001b[0;34m\u001b[0m\u001b[0m\n\u001b[0m\u001b[1;32m      4\u001b[0m     \u001b[0;31m#print(x_buff)\u001b[0m\u001b[0;34m\u001b[0m\u001b[0;34m\u001b[0m\u001b[0;34m\u001b[0m\u001b[0m\n\u001b[1;32m      5\u001b[0m     \u001b[0mcurrent_point_time\u001b[0m \u001b[0;34m=\u001b[0m \u001b[0mint\u001b[0m\u001b[0;34m(\u001b[0m\u001b[0mround\u001b[0m\u001b[0;34m(\u001b[0m\u001b[0mtime\u001b[0m\u001b[0;34m.\u001b[0m\u001b[0mtime\u001b[0m\u001b[0;34m(\u001b[0m\u001b[0;34m)\u001b[0m \u001b[0;34m*\u001b[0m \u001b[0;36m1000000000\u001b[0m\u001b[0;34m)\u001b[0m\u001b[0;34m)\u001b[0m\u001b[0;34m\u001b[0m\u001b[0;34m\u001b[0m\u001b[0m\n",
      "\u001b[0;32m~/tim-daq/ParseSerial.py\u001b[0m in \u001b[0;36mReadSentence_Inclin\u001b[0;34m(ser, header, splitline, sentence_length)\u001b[0m\n\u001b[1;32m    114\u001b[0m \u001b[0;34m\u001b[0m\u001b[0m\n\u001b[1;32m    115\u001b[0m         \u001b[0;32melse\u001b[0m\u001b[0;34m:\u001b[0m\u001b[0;34m\u001b[0m\u001b[0;34m\u001b[0m\u001b[0m\n\u001b[0;32m--> 116\u001b[0;31m             \u001b[0monebyte\u001b[0m \u001b[0;34m=\u001b[0m \u001b[0mser\u001b[0m\u001b[0;34m.\u001b[0m\u001b[0mread\u001b[0m\u001b[0;34m(\u001b[0m\u001b[0;34m)\u001b[0m\u001b[0;34m.\u001b[0m\u001b[0mhex\u001b[0m\u001b[0;34m(\u001b[0m\u001b[0;34m)\u001b[0m \u001b[0;31m# to be safe, should set a timeout here, probably\u001b[0m\u001b[0;34m\u001b[0m\u001b[0;34m\u001b[0m\u001b[0m\n\u001b[0m\u001b[1;32m    117\u001b[0m             \u001b[0mbuf\u001b[0m \u001b[0;34m+=\u001b[0m \u001b[0monebyte\u001b[0m\u001b[0;34m\u001b[0m\u001b[0;34m\u001b[0m\u001b[0m\n\u001b[1;32m    118\u001b[0m \u001b[0;34m\u001b[0m\u001b[0m\n",
      "\u001b[0;32m~/anaconda3/lib/python3.8/site-packages/serial/serialposix.py\u001b[0m in \u001b[0;36mread\u001b[0;34m(self, size)\u001b[0m\n\u001b[1;32m    481\u001b[0m         \u001b[0;32mwhile\u001b[0m \u001b[0mlen\u001b[0m\u001b[0;34m(\u001b[0m\u001b[0mread\u001b[0m\u001b[0;34m)\u001b[0m \u001b[0;34m<\u001b[0m \u001b[0msize\u001b[0m\u001b[0;34m:\u001b[0m\u001b[0;34m\u001b[0m\u001b[0;34m\u001b[0m\u001b[0m\n\u001b[1;32m    482\u001b[0m             \u001b[0;32mtry\u001b[0m\u001b[0;34m:\u001b[0m\u001b[0;34m\u001b[0m\u001b[0;34m\u001b[0m\u001b[0m\n\u001b[0;32m--> 483\u001b[0;31m                 \u001b[0mready\u001b[0m\u001b[0;34m,\u001b[0m \u001b[0m_\u001b[0m\u001b[0;34m,\u001b[0m \u001b[0m_\u001b[0m \u001b[0;34m=\u001b[0m \u001b[0mselect\u001b[0m\u001b[0;34m.\u001b[0m\u001b[0mselect\u001b[0m\u001b[0;34m(\u001b[0m\u001b[0;34m[\u001b[0m\u001b[0mself\u001b[0m\u001b[0;34m.\u001b[0m\u001b[0mfd\u001b[0m\u001b[0;34m,\u001b[0m \u001b[0mself\u001b[0m\u001b[0;34m.\u001b[0m\u001b[0mpipe_abort_read_r\u001b[0m\u001b[0;34m]\u001b[0m\u001b[0;34m,\u001b[0m \u001b[0;34m[\u001b[0m\u001b[0;34m]\u001b[0m\u001b[0;34m,\u001b[0m \u001b[0;34m[\u001b[0m\u001b[0;34m]\u001b[0m\u001b[0;34m,\u001b[0m \u001b[0mtimeout\u001b[0m\u001b[0;34m.\u001b[0m\u001b[0mtime_left\u001b[0m\u001b[0;34m(\u001b[0m\u001b[0;34m)\u001b[0m\u001b[0;34m)\u001b[0m\u001b[0;34m\u001b[0m\u001b[0;34m\u001b[0m\u001b[0m\n\u001b[0m\u001b[1;32m    484\u001b[0m                 \u001b[0;32mif\u001b[0m \u001b[0mself\u001b[0m\u001b[0;34m.\u001b[0m\u001b[0mpipe_abort_read_r\u001b[0m \u001b[0;32min\u001b[0m \u001b[0mready\u001b[0m\u001b[0;34m:\u001b[0m\u001b[0;34m\u001b[0m\u001b[0;34m\u001b[0m\u001b[0m\n\u001b[1;32m    485\u001b[0m                     \u001b[0mos\u001b[0m\u001b[0;34m.\u001b[0m\u001b[0mread\u001b[0m\u001b[0;34m(\u001b[0m\u001b[0mself\u001b[0m\u001b[0;34m.\u001b[0m\u001b[0mpipe_abort_read_r\u001b[0m\u001b[0;34m,\u001b[0m \u001b[0;36m1000\u001b[0m\u001b[0;34m)\u001b[0m\u001b[0;34m\u001b[0m\u001b[0;34m\u001b[0m\u001b[0m\n",
      "\u001b[0;31mKeyboardInterrupt\u001b[0m: "
     ]
    }
   ],
   "source": [
    "while True:\n",
    "    \n",
    "    x_buff, y_buff, temp_buff = ReadSentence_Inclin(inclin, header_inclin, splitline_inclin, sentence_length_inclin) \n",
    "    #print(x_buff)\n",
    "    current_point_time = int(round(time.time() * 1000000000))\n",
    "    current_line = '{measurement},location={location} inclin_x={x},inclin_y={y},inclin_temp={temp} {timestamp}'.format(measurement=measurement_name,location=location_tag, x=x_buff,y=y_buff,temp=temp_buff, timestamp=current_point_time)       \n",
    "    \n",
    "    r = requests.post(QUERY_URI, data=current_line, headers=headers)\n",
    "    #print(r.status_code)\n",
    "    \n",
    "    if dataCount >= N:\n",
    "        \n",
    "        inclinfile.close()\n",
    "        current_timestr = time.strftime(\"%Y%m%d-%H%M%S\")\n",
    "        datestamp = time.strftime(\"%Y-%m-%d-Inclin\")\n",
    "        \n",
    "        if os.path.isdir(\"/home/user/tim-daq/data/\"+datestamp) == 0:\n",
    "            os.mkdir(\"/home/user/tim-daq/data/\"+datestamp)  \n",
    "        \n",
    "        file_list = glob.glob(\"/home/user/tim-daq/data/\"+datestamp+\"/*.hdf5\")\n",
    "        latest_file = max(file_list, key=os.path.getctime)\n",
    "        file_number = int(latest_file[-10:-5]) + 1\n",
    "        current_file_name = str(file_number)\n",
    "        \n",
    "        \n",
    "        inclinfile = h5py.File(\"/home/user/tim-daq/data/\"+datestamp+\"/Inclin_\"+current_timestr+\"_\"+current_file_name.zfill(5)+\".hdf5\", \"w\", libver = 'latest')\n",
    "        \n",
    "        x_dset = inclinfile.create_dataset(\"x\", (N,), dtype='float', chunks = True, maxshape = (None,))\n",
    "        y_dset = inclinfile.create_dataset(\"y\", (N,), dtype='float', chunks = True, maxshape = (None,))\n",
    "        temp_dset = inclinfile.create_dataset(\"temp\", (N,), dtype='float', chunks = True, maxshape = (None,))\n",
    "        time_dset = inclinfile.create_dataset(\"time\", (N,), dtype='int64', chunks = True, maxshape = (None,))\n",
    "        index_dset = inclinfile.create_dataset(\"index\", (1,), dtype='int64', chunks = True, maxshape = (None,))\n",
    "        filenames_dset = inclinfile.create_dataset(\"filenames\", (2,), dtype='int64', chunks = True, maxshape = (None,))\n",
    "\n",
    "        filenames_dset[0] = file_number\n",
    "        filenames_dset[1] = file_number + 1\n",
    "        \n",
    "        inclinfile.swmr_mode = True\n",
    "        dataCount = 0\n",
    "   \n",
    "    else:\n",
    "        \n",
    "        x_dset[dataCount] = x_buff\n",
    "        y_dset[dataCount] = y_buff\n",
    "        temp_dset[dataCount] = temp_buff\n",
    "        time_dset[dataCount] = current_point_time\n",
    "        index_dset[0] = dataCount\n",
    "        \n",
    "        x_dset.flush()\n",
    "        y_dset.flush()\n",
    "        temp_dset.flush()\n",
    "        time_dset.flush()\n",
    "        index_dset.flush()\n",
    "        \n",
    "        \n",
    "        dataCount += 1\n",
    "        \n"
   ]
  },
  {
   "cell_type": "code",
   "execution_count": null,
   "metadata": {},
   "outputs": [],
   "source": [
    "#for i in np.arange(N):  \n",
    "    #sn_dset[i], x_dset[i], y_dset[i], z_dset[i], st_dset[i], temp_dset[i] = ReadSentence_Gyro(gyro, header_gyro, splitline_gyro, sentence_length_gyro)\n",
    "    #print(seq_num, x, y, z, status, temperature)\n",
    "    #print(sn_dset[i], x_dset[i], y_dset[i], z_dset[i], st_dset[i], temp_dset[i])\n",
    "    "
   ]
  },
  {
   "cell_type": "code",
   "execution_count": null,
   "metadata": {},
   "outputs": [],
   "source": []
  },
  {
   "cell_type": "code",
   "execution_count": null,
   "metadata": {},
   "outputs": [],
   "source": []
  }
 ],
 "metadata": {
  "kernelspec": {
   "display_name": "Python 3",
   "language": "python",
   "name": "python3"
  },
  "language_info": {
   "codemirror_mode": {
    "name": "ipython",
    "version": 3
   },
   "file_extension": ".py",
   "mimetype": "text/x-python",
   "name": "python",
   "nbconvert_exporter": "python",
   "pygments_lexer": "ipython3",
   "version": "3.8.3"
  }
 },
 "nbformat": 4,
 "nbformat_minor": 4
}
