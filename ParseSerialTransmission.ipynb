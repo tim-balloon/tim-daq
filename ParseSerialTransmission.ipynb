{
 "cells": [
  {
   "cell_type": "code",
   "execution_count": 1,
   "metadata": {},
   "outputs": [],
   "source": [
    "import serial\n",
    "import numpy as np"
   ]
  },
  {
   "cell_type": "code",
   "execution_count": 2,
   "metadata": {},
   "outputs": [
    {
     "data": {
      "text/plain": [
       "192"
      ]
     },
     "execution_count": 2,
     "metadata": {},
     "output_type": "execute_result"
    }
   ],
   "source": [
    "12*16"
   ]
  },
  {
   "cell_type": "code",
   "execution_count": 2,
   "metadata": {},
   "outputs": [],
   "source": [
    "# connect to gyro\n",
    "port = '/dev/ttyUSB0'\n",
    "baudrate = 9600\n",
    "gyro = serial.Serial(port=port, baudrate=baudrate)"
   ]
  },
  {
   "cell_type": "code",
   "execution_count": 8,
   "metadata": {},
   "outputs": [],
   "source": [
    "gyro_header = \"fe81ff55\"\n",
    "split_line = [8, 16, 24, 32, 40, 48, 50, 52, 56]"
   ]
  },
  {
   "cell_type": "code",
   "execution_count": 18,
   "metadata": {},
   "outputs": [
    {
     "name": "stdout",
     "output_type": "stream",
     "text": [
      "77 95\n",
      "78 95\n",
      "79 95\n",
      "80 95\n",
      "81 95\n",
      "82 95\n",
      "83 95\n",
      "84 95\n",
      "85 95\n",
      "86 95\n",
      "87 95\n",
      "88 95\n",
      "89 95\n",
      "90 95\n",
      "91 95\n",
      "92 95\n",
      "93 95\n",
      "95 95\n",
      "96 95\n",
      "97 95\n",
      "98 95\n",
      "99 95\n",
      "100 95\n",
      "101 95\n",
      "102 95\n",
      "103 95\n"
     ]
    }
   ],
   "source": [
    "cnt = 0\n",
    "buf = ''\n",
    "line = ''\n",
    "#linebytes = 0\n",
    "#Nlinebytes = 64\n",
    "lineread = False\n",
    "while cnt < 1000:\n",
    "    onebyte = gyro.read().hex() # to be safe, should set a timeout here, probably\n",
    "    #print(onebyte,end='')\n",
    "    buf += onebyte \n",
    "    \n",
    "    if lineread: # if start bytes found on last pass\n",
    "        # start acculumlating the data \n",
    "        line += onebyte\n",
    "    \n",
    "    if gyro_header in buf:\n",
    "        if line != '' and len(line) == 72:\n",
    "            #print(line)\n",
    "            #print(len(line))\n",
    "            split_result = [line[i:j] for i, j in zip([0] + split_line, split_line + [None])]\n",
    "            #print(split_result)\n",
    "            print(int(split_result[7],16), int(split_result[8],16))\n",
    "        lineread = True\n",
    "        buf = ''\n",
    "        line=''\n",
    "\n",
    "    cnt += 1"
   ]
  },
  {
   "cell_type": "code",
   "execution_count": 14,
   "metadata": {},
   "outputs": [
    {
     "data": {
      "text/plain": [
       "12"
      ]
     },
     "execution_count": 14,
     "metadata": {},
     "output_type": "execute_result"
    }
   ],
   "source": [
    "int(b'0c',16)"
   ]
  },
  {
   "cell_type": "code",
   "execution_count": 25,
   "metadata": {},
   "outputs": [],
   "source": [
    "test = gyro.readline().hex()"
   ]
  },
  {
   "cell_type": "code",
   "execution_count": 26,
   "metadata": {},
   "outputs": [
    {
     "data": {
      "text/plain": [
       "['baa942cf3b368a870000000000000000000000000706005da916c311',\n",
       " 'bb57eabeba7d8f343b5374120000000000000000000000000707005dcaa18773',\n",
       " 'bb505d9dba8b72cb3b4fdf6a0000000000000000000000000708005db120fe6d',\n",
       " 'bb36f1dabac95ccc3b37bd110000000000000000000000000709005d65fb14e5',\n",
       " 'bb4f2bbbbab7fee63b4cddf7000000000000000000000000070a']"
      ]
     },
     "execution_count": 26,
     "metadata": {},
     "output_type": "execute_result"
    }
   ],
   "source": [
    "test.split(gyro_header)"
   ]
  },
  {
   "cell_type": "code",
   "execution_count": 24,
   "metadata": {},
   "outputs": [
    {
     "name": "stdout",
     "output_type": "stream",
     "text": [
      "6\n",
      "64\n",
      "64\n",
      "64\n",
      "8\n"
     ]
    }
   ],
   "source": [
    "for ls in test.split(gyro_header):\n",
    "    print(len(ls))"
   ]
  },
  {
   "cell_type": "code",
   "execution_count": null,
   "metadata": {},
   "outputs": [],
   "source": []
  }
 ],
 "metadata": {
  "kernelspec": {
   "display_name": "Python 3",
   "language": "python",
   "name": "python3"
  },
  "language_info": {
   "codemirror_mode": {
    "name": "ipython",
    "version": 3
   },
   "file_extension": ".py",
   "mimetype": "text/x-python",
   "name": "python",
   "nbconvert_exporter": "python",
   "pygments_lexer": "ipython3",
   "version": "3.8.3"
  }
 },
 "nbformat": 4,
 "nbformat_minor": 4
}
