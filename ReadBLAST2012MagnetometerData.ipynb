{
 "cells": [
  {
   "cell_type": "code",
   "execution_count": 3,
   "metadata": {},
   "outputs": [],
   "source": [
    "import pygetdata as gd\n",
    "import numpy as np\n",
    "import matplotlib.pyplot as plt\n",
    "from astropy import units as u\n",
    "from astropy import constants as c"
   ]
  },
  {
   "cell_type": "code",
   "execution_count": 6,
   "metadata": {},
   "outputs": [],
   "source": [
    "blast2012path = 'data/blast2020/FLIGHT/flight_data/master_2020-01-06-06-21-22/'"
   ]
  },
  {
   "cell_type": "code",
   "execution_count": 7,
   "metadata": {},
   "outputs": [
    {
     "ename": "IOError",
     "evalue": "b'Error opening /home/user/data/blast2020/FLIGHT/flight_data/master_2020-01-06-06-21-22/x_mag1_n/format: Not a directory'",
     "output_type": "error",
     "traceback": [
      "\u001b[0;31m---------------------------------------------------------------------------\u001b[0m",
      "\u001b[0;31mIOError\u001b[0m                                   Traceback (most recent call last)",
      "\u001b[0;32m<ipython-input-7-b41841c2972c>\u001b[0m in \u001b[0;36m<module>\u001b[0;34m\u001b[0m\n\u001b[0;32m----> 1\u001b[0;31m \u001b[0mdata\u001b[0m \u001b[0;34m=\u001b[0m \u001b[0mgd\u001b[0m\u001b[0;34m.\u001b[0m\u001b[0mdirfile\u001b[0m\u001b[0;34m(\u001b[0m\u001b[0mblast2012path\u001b[0m\u001b[0;34m+\u001b[0m\u001b[0;34m'x_mag1_n'\u001b[0m\u001b[0;34m,\u001b[0m \u001b[0mgd\u001b[0m\u001b[0;34m.\u001b[0m\u001b[0mRDONLY\u001b[0m\u001b[0;34m)\u001b[0m\u001b[0;34m\u001b[0m\u001b[0;34m\u001b[0m\u001b[0m\n\u001b[0m",
      "\u001b[0;31mIOError\u001b[0m: b'Error opening /home/user/data/blast2020/FLIGHT/flight_data/master_2020-01-06-06-21-22/x_mag1_n/format: Not a directory'"
     ]
    }
   ],
   "source": [
    "data = gd.dirfile(blast2012path+'x_mag1_n', gd.RDONLY)"
   ]
  },
  {
   "cell_type": "markdown",
   "metadata": {},
   "source": [
    "# Interesting quantities\n",
    "DECLINATION_MAG  LINCOM 1 declination_mag  5.493164062500e-03 \n",
    "MAGLIMIT_ISC     LINCOM 1 maglimit_isc     1.000000000000e-03 0.000000000000e+00\n",
    "az_raw_mag       RAW    u 1\n",
    "AZ_RAW_MAG       LINCOM 1 az_raw_mag       5.493164062500e-03 0.000000000000e+00\n",
    "sigma_mag        RAW    u 1\n",
    "SIGMA_MAG        LINCOM 1 sigma_mag        5.493164062500e-03 0.000000000000e+00\n",
    "az_mag           RAW    u 1\n",
    "AZ_MAG           LINCOM 1 az_mag           5.493164062500e-03 0.000000000000e+00\n",
    "maglimit_osc     RAW    u 1\n",
    "MAGLIMIT_OSC     LINCOM 1 maglimit_osc     1.000000000000e-03 0.000000000000e+00\n",
    "cal_xmax_mag     RAW    u 1\n",
    "CAL_XMAX_MAG     LINCOM 1 cal_xmax_mag     1.000000000000e+00 0.000000000000e+00\n",
    "cal_xmin_mag     RAW    u 1\n",
    "CAL_XMIN_MAG     LINCOM 1 cal_xmin_mag     1.000000000000e+00 0.000000000000e+00\n",
    "cal_ymax_mag     RAW    u 1\n",
    "CAL_YMAX_MAG     LINCOM 1 cal_ymax_mag     1.000000000000e+00 0.000000000000e+00\n",
    "cal_ymin_mag     RAW    u 1\n",
    "CAL_YMIN_MAG     LINCOM 1 cal_ymin_mag     1.000000000000e+00 0.000000000000e+00\n",
    "trim_mag         RAW    s 1\n",
    "TRIM_MAG         LINCOM 1 trim_mag         5.493164062500e-03 0.000000000000e+00\n",
    "pitch_mag        RAW    u 1\n",
    "PITCH_MAG        LINCOM 1 pitch_mag        5.493164062500e-03 0.000000000000e+00\n",
    "offset_ifrollmag_gy RAW    s 1\n",
    "OFFSET_IFROLLMAG_GY LINCOM 1 offset_ifrollmag_gy 3.051757812500e-05 0.000000000000e+00\n",
    "offset_ifyawmag_gy RAW    s 1\n",
    "OFFSET_IFYAWMAG_GY LINCOM 1 offset_ifyawmag_gy 3.051757812500e-05 0.000000000000e+00\n",
    "z_mag            RAW    u 1\n",
    "Z_MAG            LINCOM 1 z_mag            1.000000000000e+00 0.000000000000e+00\n",
    "x_mag            RAW    u 20\n",
    "X_MAG            LINCOM 1 x_mag            1.000000000000e+00 0.000000000000e+00\n",
    "y_mag            RAW    u 20\n",
    "Y_MAG            LINCOM 1 y_mag            1.000000000000e+00 0.000000000000e+00"
   ]
  },
  {
   "cell_type": "code",
   "execution_count": 11,
   "metadata": {},
   "outputs": [
    {
     "data": {
      "text/plain": [
       "(117491880,)"
      ]
     },
     "execution_count": 11,
     "metadata": {},
     "output_type": "execute_result"
    }
   ],
   "source": [
    "az_mag = data.getdata('AZ_MAG') # Azimuth derived from magnetometer\n",
    "x_mag = data.getdata('X_MAG')\n",
    "y_mag = data.getdata('Y_MAG')\n",
    "z_mag = data.getdata('Z_MAG')\n",
    "x_mag.shape"
   ]
  },
  {
   "cell_type": "code",
   "execution_count": 13,
   "metadata": {},
   "outputs": [
    {
     "data": {
      "text/plain": [
       "20.0"
      ]
     },
     "execution_count": 13,
     "metadata": {},
     "output_type": "execute_result"
    }
   ],
   "source": [
    "x_mag.shape[0]/t.shape[0]"
   ]
  },
  {
   "cell_type": "code",
   "execution_count": 9,
   "metadata": {},
   "outputs": [
    {
     "data": {
      "text/plain": [
       "(5874594,)"
      ]
     },
     "execution_count": 9,
     "metadata": {},
     "output_type": "execute_result"
    }
   ],
   "source": [
    "t = data.getdata('TIME')\n",
    "t.shape"
   ]
  },
  {
   "cell_type": "code",
   "execution_count": 6,
   "metadata": {},
   "outputs": [],
   "source": [
    "dday = ((t - t[0])*u.s).to(u.day)"
   ]
  },
  {
   "cell_type": "code",
   "execution_count": 15,
   "metadata": {},
   "outputs": [
    {
     "data": {
      "text/plain": [
       "32780.0"
      ]
     },
     "execution_count": 15,
     "metadata": {},
     "output_type": "execute_result"
    }
   ],
   "source": [
    "np.median(z_mag)"
   ]
  },
  {
   "cell_type": "code",
   "execution_count": 20,
   "metadata": {},
   "outputs": [
    {
     "data": {
      "image/png": "[encoded data removed]",
      "text/plain": [
       "<Figure size 864x360 with 1 Axes>"
      ]
     },
     "metadata": {
      "needs_background": "light"
     },
     "output_type": "display_data"
    }
   ],
   "source": [
    "# The Z component of the magnetometer is sampled at 1 Hz, \n",
    "# and doesn't seem to do anything interesting.  There's one glitch at the end.\n",
    "plt.figure(figsize=(12,5))\n",
    "plt.plot(dday, z_mag, label='Z')\n",
    "plt.ylim(32760,32800)\n",
    "plt.legend()\n",
    "plt.show()"
   ]
  },
  {
   "cell_type": "code",
   "execution_count": null,
   "metadata": {},
   "outputs": [],
   "source": []
  }
 ],
 "metadata": {
  "kernelspec": {
   "display_name": "Python 3",
   "language": "python",
   "name": "python3"
  },
  "language_info": {
   "codemirror_mode": {
    "name": "ipython",
    "version": 3
   },
   "file_extension": ".py",
   "mimetype": "text/x-python",
   "name": "python",
   "nbconvert_exporter": "python",
   "pygments_lexer": "ipython3",
   "version": "3.8.3"
  }
 },
 "nbformat": 4,
 "nbformat_minor": 2
}
