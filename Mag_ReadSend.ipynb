{
 "cells": [
  {
   "cell_type": "code",
   "execution_count": 1,
   "metadata": {},
   "outputs": [],
   "source": [
    "import serial\n",
    "import numpy as np\n",
    "from ParseSerial import ReadSentence_Mag\n",
    "import requests\n",
    "import time\n",
    "import sys\n",
    "import h5py\n",
    "import os\n",
    "import glob"
   ]
  },
  {
   "cell_type": "code",
   "execution_count": 2,
   "metadata": {},
   "outputs": [],
   "source": [
    "#Starting with Influx 2.0, authorization tokens are necessary to access databases.\n",
    "#The token can be found under the \"Data\" tab in the Influx UI\n",
    "\n",
    "#Stringing together query access\n",
    "INFLUX_TOKEN='AjsrNgY_k97FMvgfCsgc2tPTx-lOVM-aYaCMjymNVIWpoSCkYh7H4AqIV9pLQHHk07zJa5pxTn4lo-3Ashwu5Q=='\n",
    "ORG=\"tim@upenn\"\n",
    "INFLUX_CLOUD_URL='localhost'\n",
    "BUCKET_NAME='sensors'\n",
    "\n",
    "QUERY_URI='http://{}:8086/api/v2/write?org={}&bucket={}&precision=ns'.format(INFLUX_CLOUD_URL,ORG,BUCKET_NAME)\n",
    "\n",
    "headers = {}\n",
    "headers['Authorization'] = 'Token {}'.format(INFLUX_TOKEN)\n",
    "\n",
    "#Line protocol\n",
    "location_tag = 'lab'\n",
    "measurement_name = 'mag_data'"
   ]
  },
  {
   "cell_type": "code",
   "execution_count": 3,
   "metadata": {},
   "outputs": [],
   "source": [
    "# connect to magnetometer\n",
    "port ='/dev/ttyUSB6' \n",
    "baudrate=9600\n",
    "mag = serial.Serial(port=port, baudrate=baudrate)"
   ]
  },
  {
   "cell_type": "code",
   "execution_count": 4,
   "metadata": {},
   "outputs": [],
   "source": [
    "header_mag = \"0d\"\n",
    "splitline_mag = [4,8,12]\n",
    "sentence_length_mag = 14"
   ]
  },
  {
   "cell_type": "code",
   "execution_count": 5,
   "metadata": {},
   "outputs": [],
   "source": [
    "#Number of data samples in each save file. Divide by 100 for seconds. (Magnetometer currently set to 10hz)\n",
    "#N = 585 * 60\n",
    "N = 18000\n",
    "dataCount = 0"
   ]
  },
  {
   "cell_type": "code",
   "execution_count": 6,
   "metadata": {},
   "outputs": [],
   "source": [
    "#Creating HDF5 datasets... maybe convert to for loop\n",
    "timestr = time.strftime(\"%Y%m%d-%H%M%S\")\n",
    "datestamp = time.strftime(\"%Y-%m-%d-Mag\")\n",
    "\n",
    "#First check if there is a folder with current date. If there isn't, create one.\n",
    "if os.path.isdir(\"/home/user/tim-daq/data/\"+datestamp) == 0:\n",
    "    os.mkdir(\"/home/user/tim-daq/data/\"+datestamp)\n",
    "\n",
    "#Then check if the folder is empty. If it's empty, the first file number will start at 1.\n",
    "#If the folder is not empty, check the file number of the last edited file, and add 1 to it for the new file. \n",
    "if len(os.listdir(\"/home/user/tim-daq/data/\"+datestamp)) == 0:\n",
    "    file_number = 1\n",
    "    file_number_string =  str(1)\n",
    "    \n",
    "else:\n",
    "    file_list = glob.glob(\"/home/user/tim-daq/data/\"+datestamp+\"/*.hdf5\")\n",
    "    latest_file = max(file_list, key=os.path.getctime)\n",
    "    file_number = int(latest_file[-10:-5]) + 1\n",
    "    file_number_string =  str(file_number)\n",
    "    \n",
    "\n",
    "magfile = h5py.File(\"/home/user/tim-daq/data/\"+datestamp+\"/Mag_\"+timestr+'_'+file_number_string.zfill(5)+\".hdf5\", \"w\", libver = 'latest')\n",
    "x_dset = magfile.create_dataset(\"x\", (N,), dtype='float', chunks = True, maxshape = (None,))\n",
    "y_dset = magfile.create_dataset(\"y\", (N,), dtype='float', chunks = True, maxshape = (None,))\n",
    "z_dset = magfile.create_dataset(\"z\", (N,), dtype='float', chunks = True, maxshape = (None,))\n",
    "time_dset = magfile.create_dataset(\"time\", (N,), dtype='int64', chunks = True, maxshape = (None,))\n",
    "#filesnames_dset = magfile.create_dataset(\"filenames\",(2,),dtype='', chunks= True, maxshape = (None,))\n",
    "index_dset = magfile.create_dataset(\"index\", (1,), dtype='int64', chunks = True, maxshape = (None,))\n",
    "filenames_dset = magfile.create_dataset(\"filenames\", (2,), dtype='int64', chunks = True, maxshape = (None,))\n",
    "\n",
    "filenames_dset[0] = file_number\n",
    "filenames_dset[1] = file_number + 1\n",
    "\n",
    "\n",
    "magfile.swmr_mode = True"
   ]
  },
  {
   "cell_type": "code",
   "execution_count": null,
   "metadata": {},
   "outputs": [],
   "source": [
    "while True:\n",
    "\n",
    "    x_buff, y_buff, z_buff = ReadSentence_Mag(mag, header_mag, splitline_mag, sentence_length_mag) \n",
    "    #print(x_buff)\n",
    "    current_point_time = int(round(time.time() * 1000000000))\n",
    "    directory = time.strftime(\"%Y-%m-%d-Mag\")\n",
    "    current_line = '{measurement},location={location} mag_x={x},mag_y={y},mag_z={z} {timestamp}'.format(measurement=measurement_name,location=location_tag, x=x_buff,y=y_buff,z=z_buff, timestamp=current_point_time)       \n",
    "    #print(current_line)\n",
    "    r = requests.post(QUERY_URI, data=current_line, headers=headers)\n",
    "    #print(r.status_code)\n",
    "    \n",
    "    if dataCount >= N:\n",
    "        magfile.close()\n",
    "        current_timestr = time.strftime(\"%Y%m%d-%H%M%S\")\n",
    "        datestamp = time.strftime(\"%Y-%m-%d-Mag\")\n",
    "        \n",
    "        if os.path.isdir(\"/home/user/tim-daq/data/\"+datestamp) == 0:\n",
    "            os.mkdir(\"/home/user/tim-daq/data/\"+datestamp)  \n",
    "        \n",
    "        file_list = glob.glob(\"/home/user/tim-daq/data/\"+datestamp+\"/*.hdf5\")\n",
    "        latest_file = max(file_list, key=os.path.getctime)\n",
    "        file_number = int(latest_file[-10:-5]) + 1\n",
    "        file_number_string =  str(file_number)\n",
    "        \n",
    "        \n",
    "        magfile = h5py.File(\"/home/user/tim-daq/data/\"+datestamp+\"/Mag_\"+current_timestr+'_'+file_number_string.zfill(5)+\".hdf5\", \"w\", libver = 'latest')\n",
    "        x_dset = magfile.create_dataset(\"x\", (N,), dtype='float', chunks = True, maxshape = (None,))\n",
    "        y_dset = magfile.create_dataset(\"y\", (N,), dtype='float', chunks = True, maxshape = (None,))\n",
    "        z_dset = magfile.create_dataset(\"z\", (N,), dtype='float', chunks = True, maxshape = (None,))\n",
    "        time_dset = magfile.create_dataset(\"time\", (N,), dtype='int64', chunks = True, maxshape = (None,))\n",
    "        index_dset = magfile.create_dataset(\"index\", (1,), dtype='int64', chunks = True, maxshape = (None,))\n",
    "        filenames_dset = magfile.create_dataset(\"filenames\", (2,), dtype='int64', chunks = True, maxshape = (None,))\n",
    "        \n",
    "        filenames_dset[0] = file_number\n",
    "        filenames_dset[1] = file_number + 1\n",
    "        \n",
    "        magfile.swmr_mode = True\n",
    "        dataCount = 0\n",
    "   \n",
    "    else:\n",
    "       \n",
    "        x_dset[dataCount] = x_buff\n",
    "        y_dset[dataCount] = y_buff\n",
    "        z_dset[dataCount] = z_buff\n",
    "        time_dset[dataCount] = current_point_time\n",
    "        index_dset[0] = dataCount\n",
    "        \n",
    "        x_dset.flush()\n",
    "        y_dset.flush()\n",
    "        z_dset.flush()\n",
    "        time_dset.flush()\n",
    "        index_dset.flush()\n",
    "        dataCount += 1\n",
    "\n"
   ]
  },
  {
   "cell_type": "code",
   "execution_count": null,
   "metadata": {},
   "outputs": [],
   "source": []
  },
  {
   "cell_type": "code",
   "execution_count": null,
   "metadata": {},
   "outputs": [],
   "source": []
  }
 ],
 "metadata": {
  "kernelspec": {
   "display_name": "Python 3",
   "language": "python",
   "name": "python3"
  },
  "language_info": {
   "codemirror_mode": {
    "name": "ipython",
    "version": 3
   },
   "file_extension": ".py",
   "mimetype": "text/x-python",
   "name": "python",
   "nbconvert_exporter": "python",
   "pygments_lexer": "ipython3",
   "version": "3.8.3"
  }
 },
 "nbformat": 4,
 "nbformat_minor": 4
}
