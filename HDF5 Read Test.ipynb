{
 "cells": [
  {
   "cell_type": "code",
   "execution_count": 1,
   "metadata": {},
   "outputs": [],
   "source": [
    "import serial\n",
    "import numpy as np\n",
    "import h5py\n",
    "import time\n",
    "import math\n",
    "import requests\n",
    "import sys\n",
    "import os"
   ]
  },
  {
   "cell_type": "code",
   "execution_count": 2,
   "metadata": {},
   "outputs": [],
   "source": [
    "#Starting with Influx 2.0, authorization tokens are necessary to access databases\n",
    "\n",
    "#Stringing together query access\n",
    "INFLUX_TOKEN='AjsrNgY_k97FMvgfCsgc2tPTx-lOVM-aYaCMjymNVIWpoSCkYh7H4AqIV9pLQHHk07zJa5pxTn4lo-3Ashwu5Q=='\n",
    "ORG=\"tim@upenn\"\n",
    "INFLUX_CLOUD_URL='localhost'\n",
    "BUCKET_NAME='sensors'\n",
    "\n",
    "QUERY_URI='http://{}:8086/api/v2/write?org={}&bucket={}&precision=ns'.format(INFLUX_CLOUD_URL,ORG,BUCKET_NAME)\n",
    "\n",
    "headers = {}\n",
    "headers['Authorization'] = 'Token {}'.format(INFLUX_TOKEN)\n",
    "\n",
    "#Line protocol\n",
    "location_tag = 'lab'\n",
    "measurement_name = 'heading'"
   ]
  },
  {
   "cell_type": "code",
   "execution_count": 3,
   "metadata": {},
   "outputs": [
    {
     "ename": "KeyboardInterrupt",
     "evalue": "",
     "output_type": "error",
     "traceback": [
      "\u001b[0;31m---------------------------------------------------------------------------\u001b[0m",
      "\u001b[0;31mKeyboardInterrupt\u001b[0m                         Traceback (most recent call last)",
      "\u001b[0;32m<ipython-input-3-6746645b266c>\u001b[0m in \u001b[0;36m<module>\u001b[0;34m\u001b[0m\n\u001b[1;32m     12\u001b[0m \u001b[0;34m\u001b[0m\u001b[0m\n\u001b[1;32m     13\u001b[0m \u001b[0;32mwhile\u001b[0m \u001b[0;32mTrue\u001b[0m\u001b[0;34m:\u001b[0m\u001b[0;34m\u001b[0m\u001b[0;34m\u001b[0m\u001b[0m\n\u001b[0;32m---> 14\u001b[0;31m     \u001b[0mtime\u001b[0m\u001b[0;34m.\u001b[0m\u001b[0msleep\u001b[0m\u001b[0;34m(\u001b[0m\u001b[0;36m0.13\u001b[0m\u001b[0;34m)\u001b[0m\u001b[0;34m\u001b[0m\u001b[0;34m\u001b[0m\u001b[0m\n\u001b[0m\u001b[1;32m     15\u001b[0m     \u001b[0mmag_index_num\u001b[0m \u001b[0;34m=\u001b[0m \u001b[0mmag_file\u001b[0m\u001b[0;34m[\u001b[0m\u001b[0;34m'index'\u001b[0m\u001b[0;34m]\u001b[0m\u001b[0;34m[\u001b[0m\u001b[0;36m0\u001b[0m\u001b[0;34m]\u001b[0m\u001b[0;34m\u001b[0m\u001b[0;34m\u001b[0m\u001b[0m\n\u001b[1;32m     16\u001b[0m     \u001b[0minclin_index_num\u001b[0m \u001b[0;34m=\u001b[0m \u001b[0minclin_file\u001b[0m\u001b[0;34m[\u001b[0m\u001b[0;34m'index'\u001b[0m\u001b[0;34m]\u001b[0m\u001b[0;34m[\u001b[0m\u001b[0;36m0\u001b[0m\u001b[0;34m]\u001b[0m\u001b[0;34m\u001b[0m\u001b[0;34m\u001b[0m\u001b[0m\n",
      "\u001b[0;31mKeyboardInterrupt\u001b[0m: "
     ]
    }
   ],
   "source": [
    "mag_directory = time.strftime(\"%Y-%m-%d-Mag\")\n",
    "inclin_directory = time.strftime(\"%Y-%m-%d-Inclin\")\n",
    "mag_file = h5py.File('/home/user/tim-daq/data/'+mag_directory+'/Mag-20210614-193554.hdf5', 'r', libver = 'latest', swmr = True)\n",
    "inclin_file = h5py.File('/home/user/tim-daq/data/'+inclin_directory+'/Inclin-20210614-193353.hdf5', 'r', libver = 'latest', swmr = True)\n",
    "\n",
    "mag_x = mag_file['x']\n",
    "mag_y = mag_file['y']\n",
    "mag_z = mag_file['z']\n",
    "mag_timestamp = mag_file['time']\n",
    "inclin_x = inclin_file['x']\n",
    "inclin_y = inclin_file['y']\n",
    "\n",
    "while True:\n",
    "    time.sleep(0.13)\n",
    "    mag_index_num = mag_file['index'][0] \n",
    "    inclin_index_num = inclin_file['index'][0]\n",
    "    #if mag_index_num <\n",
    "    mag_x.id.refresh()\n",
    "    mag_y.id.refresh()\n",
    "    mag_z.id.refresh()\n",
    "    mag_timestamp.refresh()\n",
    "    \n",
    "    inclin_x.id.refresh()\n",
    "    inclin_y.id.refresh()\n",
    "    \n",
    "    mag_x_list = mag_x[:]\n",
    "    mag_y_list = mag_y[:]\n",
    "    mag_z_list = mag_z[:]\n",
    "    mag_timestamp_list = mag_timestamp[:]\n",
    "    inclin_x_list = inclin_x[:]\n",
    "    inclin_y_list = inclin_y[:]\n",
    "    \n",
    "    mag_x_dat = mag_x_list[mag_index_num]\n",
    "    mag_y_dat = mag_y_list[mag_index_num]\n",
    "    mag_z_dat = mag_z_list[mag_index_num]\n",
    "    mag_timestamp_dat = mag_timestamp_list[mag_index_num]\n",
    "    \n",
    "    inclin_x_dat = inclin_x_list[inclin_index_num]\n",
    "    inclin_y_dat = inclin_y_list[inclin_index_num]\n",
    "    \n",
    "    if inclin_y_dat > 0:\n",
    "        pitch = np.deg2rad(90 - inclin_y_dat)\n",
    "    else:\n",
    "        pitch = np.deg2rad(90 + inclin_y_dat)\n",
    "        \n",
    "    if inclin_x_dat > 0:\n",
    "        roll = np.deg2rad(90 - inclin_x_dat)\n",
    "    else:\n",
    "        roll = np.deg2rad(90 + inclin_x_dat)\n",
    "        \n",
    "    Xh = mag_x_dat * np.cos(pitch) + mag_y_dat * np.sin(roll) * np.sin(pitch) - mag_z_dat * np.cos(roll) * np.sin(pitch)\n",
    "    \n",
    "    Yh = mag_y_dat * np.cos(roll) + mag_z_dat * np.sin(roll)\n",
    "    \n",
    "    #print(pitch, roll)\n",
    "    heading = np.rad2deg(math.atan2(mag_x_dat,mag_y_dat))\n",
    "    #heading = np.rad2deg(math.atan2(Yh,Xh))\n",
    "    line = '{measurement},location={location} heading={heading} {timestamp}'.format(measurement=measurement_name,location=location_tag, heading=heading, timestamp=mag_timestamp_dat)\n",
    "    r = requests.post(QUERY_URI, data=line, headers=headers)\n",
    "    #print(r.status_code)\n",
    "    #print(line)\n",
    "    \n",
    "    #print(index_num)\n",
    "    #print(x_data[np.max(np.flatnonzero(x_data))])\n",
    "    #print(mag_x_dat,mag_y_dat,mag_z_dat,\"  \",inclin_x_dat,inclin_y_dat)\n",
    "    \n",
    " "
   ]
  },
  {
   "cell_type": "code",
   "execution_count": 4,
   "metadata": {},
   "outputs": [
    {
     "ename": "NameError",
     "evalue": "name 'inflin_file' is not defined",
     "output_type": "error",
     "traceback": [
      "\u001b[0;31m---------------------------------------------------------------------------\u001b[0m",
      "\u001b[0;31mNameError\u001b[0m                                 Traceback (most recent call last)",
      "\u001b[0;32m<ipython-input-4-e3da10e19f3b>\u001b[0m in \u001b[0;36m<module>\u001b[0;34m\u001b[0m\n\u001b[1;32m      1\u001b[0m \u001b[0mmag_file\u001b[0m\u001b[0;34m.\u001b[0m\u001b[0mclose\u001b[0m\u001b[0;34m(\u001b[0m\u001b[0;34m)\u001b[0m\u001b[0;34m\u001b[0m\u001b[0;34m\u001b[0m\u001b[0m\n\u001b[0;32m----> 2\u001b[0;31m \u001b[0minflin_file\u001b[0m\u001b[0;34m.\u001b[0m\u001b[0mclose\u001b[0m\u001b[0;34m(\u001b[0m\u001b[0;34m)\u001b[0m\u001b[0;34m\u001b[0m\u001b[0;34m\u001b[0m\u001b[0m\n\u001b[0m",
      "\u001b[0;31mNameError\u001b[0m: name 'inflin_file' is not defined"
     ]
    }
   ],
   "source": [
    "mag_file.close()\n",
    "inflin_file.close()"
   ]
  },
  {
   "cell_type": "code",
   "execution_count": null,
   "metadata": {},
   "outputs": [],
   "source": []
  }
 ],
 "metadata": {
  "kernelspec": {
   "display_name": "Python 3",
   "language": "python",
   "name": "python3"
  },
  "language_info": {
   "codemirror_mode": {
    "name": "ipython",
    "version": 3
   },
   "file_extension": ".py",
   "mimetype": "text/x-python",
   "name": "python",
   "nbconvert_exporter": "python",
   "pygments_lexer": "ipython3",
   "version": "3.8.3"
  }
 },
 "nbformat": 4,
 "nbformat_minor": 4
}
